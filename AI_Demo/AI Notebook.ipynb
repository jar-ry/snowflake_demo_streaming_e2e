{
 "metadata": {
  "kernelspec": {
   "display_name": "Streamlit Notebook",
   "name": "streamlit"
  },
  "lastEditStatus": {
   "notebookId": "4wtyat7x6xheipvmzmbe",
   "authorId": "6363208213288",
   "authorName": "JARCHEN",
   "authorEmail": "jarry.chen@snowflake.com",
   "sessionId": "505da184-dffb-445c-a461-d51f5cefa18f",
   "lastEditTime": 1759795483303
  }
 },
 "nbformat_minor": 5,
 "nbformat": 4,
 "cells": [
  {
   "cell_type": "code",
   "id": "3775908f-ca36-4846-8f38-5adca39217f2",
   "metadata": {
    "language": "python",
    "name": "cell1"
   },
   "source": "from helper_func import load_images \nload_images()",
   "execution_count": null,
   "outputs": []
  },
  {
   "cell_type": "markdown",
   "id": "fa5a9c6e-99c3-42aa-a9d3-46d5c605ab11",
   "metadata": {
    "name": "cell4",
    "collapsed": false
   },
   "source": "## *CONVERT TO SQL CELL FROM MARKDOWN* & Delete this line\n\n-- Create internal stage for images with server-side encryption\nCREATE OR REPLACE STAGE IMAGE_STAGE\n    DIRECTORY = (ENABLE = TRUE)\n    ENCRYPTION = (TYPE = 'SNOWFLAKE_SSE');"
  },
  {
   "cell_type": "code",
   "id": "5aefe6a3-154c-48e4-933a-3ad1b3d84f7a",
   "metadata": {
    "language": "sql",
    "name": "cell5"
   },
   "outputs": [],
   "source": "CREATE OR REPLACE TABLE IMAGE_CATALOG AS\nSELECT \n   TO_FILE(FILE_URL) AS IMG_FILE, \n   * \nFROM DIRECTORY(@IMAGE_STAGE);",
   "execution_count": null
  },
  {
   "cell_type": "markdown",
   "id": "24736be5-f6f9-4e24-a324-c4f6d071428c",
   "metadata": {
    "name": "cell8",
    "collapsed": false
   },
   "source": "# AI SQL"
  },
  {
   "cell_type": "code",
   "id": "a247e796-9ed2-4843-983b-6b63efb106fa",
   "metadata": {
    "language": "sql",
    "name": "cell6"
   },
   "outputs": [],
   "source": "select \nimg_file,\nrelative_path,\nsnowflake.cortex.complete(\n    'pixtral-large', \n    prompt('What flight id in this image: {0}.\"', img_file)\n) AS AI_COMPLETE_RESULT,\nfrom IMAGE_CATALOG",
   "execution_count": null
  },
  {
   "cell_type": "code",
   "id": "8d50cbf4-0c8d-4950-86cb-114990437ac9",
   "metadata": {
    "language": "sql",
    "name": "cell2",
    "codeCollapsed": false
   },
   "source": "select \nimg_file,\nrelative_path,\nsnowflake.cortex.complete(\n    'pixtral-large', \n    prompt('What flight id in this image: {0}. Provide the response in this exact format: \"flight_id\"', img_file)\n) AS AI_COMPLETE_RESULT,\nfrom IMAGE_CATALOG",
   "execution_count": null,
   "outputs": []
  },
  {
   "cell_type": "code",
   "id": "c695373e-ac74-4b62-a1f1-08206cbd5c81",
   "metadata": {
    "language": "sql",
    "name": "cell3",
    "codeCollapsed": false
   },
   "source": "select \nimg_file,\nrelative_path,\nAI_EXTRACT(\n    file => img_file,\n    responseFormat => [\n        ['feature1', 'What flight number in this image: {0}']\n    ]\n):response.feature1 AS AI_EXTRACT_RESULT\nfrom IMAGE_CATALOG",
   "execution_count": null,
   "outputs": []
  },
  {
   "cell_type": "code",
   "id": "035b9e95-2372-4877-8c81-40ab0ded16a4",
   "metadata": {
    "language": "sql",
    "name": "cell12"
   },
   "outputs": [],
   "source": "select \nimg_file,\nrelative_path\nfrom IMAGE_CATALOG\nwhere AI_FILTER(prompt('The boarding pass is from Jetstar {0}', img_file))",
   "execution_count": null
  },
  {
   "cell_type": "code",
   "id": "f8ff5605-9299-4864-a38c-2e21b10f06d2",
   "metadata": {
    "language": "sql",
    "name": "cell11",
    "codeCollapsed": false
   },
   "outputs": [],
   "source": "SELECT\n  AI_SENTIMENT(\n    REVIEW_TEXT\n  ),\n  REVIEW_TEXT\n  FROM S3_GOLD.CUSTOMER_REVIEWS LIMIT 10;",
   "execution_count": null
  },
  {
   "cell_type": "markdown",
   "id": "c4dce508-548e-4282-ab30-f0a75818a4ae",
   "metadata": {
    "name": "cell10",
    "collapsed": false
   },
   "source": "# Doc AI"
  },
  {
   "cell_type": "code",
   "id": "020d799f-4657-41d1-a684-803fe66a8ee3",
   "metadata": {
    "language": "sql",
    "name": "cell7",
    "codeCollapsed": false
   },
   "outputs": [],
   "source": "SELECT \n    img_file,\n    relative_path,\n    RETAIL_STREAMING_DEMO.PUBLIC.BOARDING_PASS!PREDICT(GET_PRESIGNED_URL(@IMAGE_STAGE, RELATIVE_PATH), 2):FLIGHT_ID AS DOC_AI_RESULT\nFROM IMAGE_CATALOG",
   "execution_count": null
  }
 ]
}