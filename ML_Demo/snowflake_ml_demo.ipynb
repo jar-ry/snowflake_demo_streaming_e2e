{
 "cells": [
  {
   "cell_type": "markdown",
   "id": "803f6f1a-7069-4d4d-ab13-852184a22676",
   "metadata": {
    "collapsed": false,
    "name": "cell1"
   },
   "source": [
    "# Snowflake Native ML Demo: Time Series Forecasting & Customer Classification\n",
    "\n",
    "This notebook demonstrates Snowflake's built-in ML capabilities using the retail streaming data:\n",
    "1. **Time Series Forecasting** - Predict future sales trends using ML.FORECAST\n",
    "2. **Customer Classification** - Predict customer segments using ML.CLASSIFICATION\n",
    "\n",
    "## Prerequisites\n",
    "- Running in **Snowflake Notebooks** with container runtime\n",
    "- Historical data loaded into the Gold layer (run `CALL GENERATE_HISTORICAL_DATA()` and bronze and gold transformation SPROCs)\n",
    "- Warehouse: RETAIL_TRANSFORM_WH or similar"
   ]
  },
  {
   "cell_type": "markdown",
   "id": "52c25179-9b10-4f2c-80c8-2a7cf66c0ade",
   "metadata": {
    "name": "cell2"
   },
   "source": [
    "## Setup: Install & Import Required Packages\n",
    "\n",
    "This cell installs all necessary packages in the Snowflake Notebooks container runtime. Run this first!"
   ]
  },
  {
   "cell_type": "code",
   "execution_count": null,
   "id": "2a6b64c2-9c5d-4392-998e-4ed66fabea70",
   "metadata": {
    "language": "python",
    "name": "cell3"
   },
   "outputs": [],
   "source": [
    "# Install required packages in Snowflake Notebooks container runtime\n",
    "import subprocess\n",
    "import sys\n",
    "\n",
    "def install_package(package):\n",
    "    try:\n",
    "        subprocess.check_call([sys.executable, \"-m\", \"pip\", \"install\", package, \"-q\"])\n",
    "        print(f\"✅ {package} installed successfully\")\n",
    "    except Exception as e:\n",
    "        print(f\"⚠️ Failed to install {package}: {e}\")\n",
    "\n",
    "# Install essential packages for this notebook\n",
    "packages = [\n",
    "    \"snowflake-snowpark-python[pandas]>=1.11.0\",\n",
    "    \"pandas>=2.0.0\",\n",
    "    \"numpy>=1.24.0\",\n",
    "    \"matplotlib>=3.0.0\",\n",
    "    \"seaborn>=0.12.0\"\n",
    "]\n",
    "\n",
    "print(\"📦 Installing required packages...\")\n",
    "for package in packages:\n",
    "    install_package(package)\n",
    "\n",
    "print(\"🎉 Package installation complete!\")"
   ]
  },
  {
   "cell_type": "markdown",
   "id": "f0a9e597-a49e-4ef5-a5ce-789b048327cc",
   "metadata": {
    "name": "cell4"
   },
   "source": [
    "## 1. Connect to Snowflake\n",
    "\n",
    "Using Snowflake's native session (works in Snowflake Notebooks with container runtime)"
   ]
  },
  {
   "cell_type": "code",
   "execution_count": null,
   "id": "3c9b29cb-a4c4-4326-b30f-e8fc2c33d015",
   "metadata": {
    "language": "python",
    "name": "cell5"
   },
   "outputs": [],
   "source": [
    "import pandas as pd\n",
    "import matplotlib.pyplot as plt\n",
    "import seaborn as sns\n",
    "from datetime import datetime, timedelta\n",
    "from snowflake.snowpark.context import get_active_session\n",
    "import warnings\n",
    "warnings.filterwarnings('ignore')\n",
    "\n",
    "# Get the active Snowflake session\n",
    "session = get_active_session()\n",
    "\n",
    "# Set context\n",
    "session.sql(\"USE DATABASE RETAIL_STREAMING_DEMO\").collect()\n",
    "session.sql(\"USE SCHEMA PUBLIC\").collect() \n",
    "\n",
    "# Set plotting style\n",
    "sns.set_style('whitegrid')\n",
    "plt.rcParams['figure.figsize'] = (14, 6)\n",
    "\n",
    "print(\"✅ Libraries imported successfully\")\n",
    "print(f\"✅ Connected to Snowflake session\")\n",
    "print(f\"   Database: {session.get_current_database()}\")\n",
    "print(f\"   Schema: {session.get_current_schema()}\")\n",
    "print(f\"   Warehouse: {session.get_current_warehouse()}\")"
   ]
  },
  {
   "cell_type": "code",
   "execution_count": null,
   "id": "5b176379-457d-4952-8de9-cf548e40165d",
   "metadata": {
    "codeCollapsed": false,
    "language": "python",
    "name": "cell6"
   },
   "outputs": [],
   "source": [
    "# Helper functions to execute SQL and return pandas DataFrame\n",
    "def query_to_df(query, use_arrow=False):\n",
    "    \"\"\"\n",
    "    Execute a SQL query and return results as a pandas DataFrame\n",
    "    \n",
    "    Args:\n",
    "        query: SQL query string\n",
    "        use_arrow: Set to True for ML functions (FORECAST, CLASSIFICATION) for better compatibility\n",
    "    \"\"\"\n",
    "    if use_arrow:\n",
    "        # Use ARROW format for ML functions to avoid JSON parsing issues\n",
    "        import snowflake.snowpark as snowpark\n",
    "        original_format = session.sql(\"SHOW PARAMETERS LIKE 'PYTHON_CONNECTOR_QUERY_RESULT_FORMAT' IN SESSION\").collect()\n",
    "        session.sql(\"ALTER SESSION SET PYTHON_CONNECTOR_QUERY_RESULT_FORMAT = 'ARROW'\").collect()\n",
    "        try:\n",
    "            result = session.sql(query).to_pandas()\n",
    "        finally:\n",
    "            # Restore original format\n",
    "            session.sql(\"ALTER SESSION SET PYTHON_CONNECTOR_QUERY_RESULT_FORMAT = 'JSON'\").collect()\n",
    "        return result\n",
    "    else:\n",
    "        return session.sql(query).to_pandas()\n",
    "\n",
    "print(\"✅ Helper functions defined\")"
   ]
  },
  {
   "cell_type": "markdown",
   "id": "58e013a1-0d5f-4f5c-9fd1-b58a60e69807",
   "metadata": {
    "collapsed": false,
    "name": "cell7"
   },
   "source": [
    "## 2. Explore the Gold Layer Data"
   ]
  },
  {
   "cell_type": "code",
   "execution_count": null,
   "id": "1f1870a7-6ae5-4331-8fcf-b9dabff15462",
   "metadata": {
    "codeCollapsed": false,
    "language": "sql",
    "name": "cell8"
   },
   "outputs": [],
   "source": [
    "-- Check data availability\n",
    "SELECT \n",
    "    'DIM_CUSTOMERS' as table_name,\n",
    "    COUNT(*) as record_count\n",
    "FROM S3_GOLD.DIM_CUSTOMERS\n",
    "UNION ALL\n",
    "SELECT \n",
    "    'FCT_SALES',\n",
    "    COUNT(*),\n",
    "FROM S3_GOLD.FCT_SALES\n"
   ]
  },
  {
   "cell_type": "code",
   "execution_count": null,
   "id": "304741a0-51a4-4ac6-9cd0-74846f5377af",
   "metadata": {
    "codeCollapsed": false,
    "language": "python",
    "name": "cell9"
   },
   "outputs": [],
   "source": [
    "# Preview customer data\n",
    "customers_sample = query_to_df(\"\"\"\n",
    "    SELECT \n",
    "        CUSTOMER_ID,\n",
    "        CUSTOMER_SEGMENT,\n",
    "        AGE,\n",
    "        ANNUAL_INCOME,\n",
    "        TOTAL_ORDERS,\n",
    "        TOTAL_SPENT,\n",
    "        AVG_ORDER_VALUE,\n",
    "        CHURN_PROBABILITY,\n",
    "        ENGAGEMENT_LEVEL\n",
    "    FROM S3_GOLD.DIM_CUSTOMERS\n",
    "    LIMIT 10\n",
    "\"\"\")\n",
    "\n",
    "print(\"👥 Customer Data Sample:\")\n",
    "customers_sample"
   ]
  },
  {
   "cell_type": "code",
   "execution_count": null,
   "id": "e19d64fb-547b-4199-b5ac-dd9e242c1801",
   "metadata": {
    "codeCollapsed": false,
    "language": "python",
    "name": "cell10"
   },
   "outputs": [],
   "source": [
    "# Preview sales data\n",
    "sales_sample = query_to_df(\"\"\"\n",
    "    SELECT \n",
    "        PURCHASE_TIMESTAMP,\n",
    "        CUSTOMER_ID,\n",
    "        CUSTOMER_SEGMENT,\n",
    "        PRODUCT_CATEGORY,\n",
    "        FINAL_TOTAL,\n",
    "        SALES_CHANNEL,\n",
    "        IS_REPEAT_CUSTOMER\n",
    "    FROM S3_GOLD.FCT_SALES\n",
    "    ORDER BY PURCHASE_TIMESTAMP DESC\n",
    "    LIMIT 10\n",
    "\"\"\")\n",
    "\n",
    "print(\"🛒 Sales Data Sample:\")\n",
    "sales_sample"
   ]
  },
  {
   "cell_type": "markdown",
   "id": "f0ff5884-b90f-456f-a563-816b37a25c02",
   "metadata": {
    "name": "cell11"
   },
   "source": [
    "## 3. Time Series Forecasting with ML.FORECAST\n",
    "\n",
    "We'll forecast daily sales revenue for the next 30 days using Snowflake's built-in forecasting function."
   ]
  },
  {
   "cell_type": "markdown",
   "id": "4e350a43-40e3-42f5-8516-760211b845f4",
   "metadata": {
    "name": "cell12"
   },
   "source": [
    "### 3.1 Prepare Historical Sales Data"
   ]
  },
  {
   "cell_type": "code",
   "execution_count": null,
   "id": "e9274568-3d9f-4ea5-80ca-7b14305eff89",
   "metadata": {
    "language": "python",
    "name": "cell13"
   },
   "outputs": [],
   "source": [
    "# Aggregate daily sales for time series analysis\n",
    "daily_sales = query_to_df(\"\"\"\n",
    "    SELECT \n",
    "        DATE(PURCHASE_TIMESTAMP) as sales_date,\n",
    "        COUNT(*) as transaction_count,\n",
    "        SUM(FINAL_TOTAL) as total_revenue,\n",
    "        AVG(FINAL_TOTAL) as avg_order_value,\n",
    "        COUNT(DISTINCT CUSTOMER_ID) as unique_customers\n",
    "    FROM S3_GOLD.FCT_SALES\n",
    "    GROUP BY sales_date\n",
    "    ORDER BY sales_date\n",
    "\"\"\")\n",
    "\n",
    "print(f\"📈 Historical data: {len(daily_sales)} days\")\n",
    "\n",
    "# Visualize historical sales trend\n",
    "fig, ax = plt.subplots(2, 1, figsize=(14, 10))\n",
    "\n",
    "ax[0].plot(daily_sales['SALES_DATE'], daily_sales['TOTAL_REVENUE'], linewidth=2, color='#1f77b4')\n",
    "ax[0].set_title('Daily Total Revenue', fontsize=14, fontweight='bold')\n",
    "ax[0].set_ylabel('Revenue ($)', fontsize=12)\n",
    "ax[0].grid(True, alpha=0.3)\n",
    "\n",
    "ax[1].plot(daily_sales['SALES_DATE'], daily_sales['TRANSACTION_COUNT'], linewidth=2, color='#ff7f0e')\n",
    "ax[1].set_title('Daily Transaction Count', fontsize=14, fontweight='bold')\n",
    "ax[1].set_xlabel('Date', fontsize=12)\n",
    "ax[1].set_ylabel('Transactions', fontsize=12)\n",
    "ax[1].grid(True, alpha=0.3)\n",
    "\n",
    "plt.tight_layout()\n",
    "plt.show()"
   ]
  },
  {
   "cell_type": "markdown",
   "id": "a7b32770-b469-4157-a565-dd214b15d50d",
   "metadata": {
    "collapsed": false,
    "name": "cell14"
   },
   "source": [
    "### 3.2 Create Forecasting View and Generate Predictions"
   ]
  },
  {
   "cell_type": "code",
   "execution_count": null,
   "id": "da6abab4-d08d-4ce0-880d-43a0eb7ec1f2",
   "metadata": {
    "language": "sql",
    "name": "cell15",
    "vscode": {
     "languageId": "sql"
    }
   },
   "outputs": [],
   "source": [
    "CREATE OR REPLACE VIEW S3_GOLD.DAILY_SALES_TS AS\n",
    "SELECT \n",
    "    DATE(PURCHASE_TIMESTAMP) as sales_date,\n",
    "    SUM(FINAL_TOTAL) as total_revenue\n",
    "FROM S3_GOLD.FCT_SALES\n",
    "GROUP BY sales_date\n",
    "ORDER BY sales_date"
   ]
  },
  {
   "cell_type": "code",
   "execution_count": null,
   "id": "bce4eac4-0bff-4aa2-b13f-cf905b7ff33f",
   "metadata": {
    "codeCollapsed": false,
    "language": "sql",
    "name": "cell39",
    "vscode": {
     "languageId": "sql"
    }
   },
   "outputs": [],
   "source": [
    "CREATE OR REPLACE SNOWFLAKE.ML.FORECAST daily_sales(\n",
    "            INPUT_DATA => SYSTEM$REFERENCE('VIEW', 'S3_GOLD.DAILY_SALES_TS'),\n",
    "            TIMESTAMP_COLNAME => 'SALES_DATE',\n",
    "            TARGET_COLNAME => 'TOTAL_REVENUE'\n",
    "        )"
   ]
  },
  {
   "cell_type": "code",
   "execution_count": null,
   "id": "e42331eb-46b8-4e1e-a937-11b90c776c5a",
   "metadata": {
    "codeCollapsed": false,
    "language": "python",
    "name": "cell16"
   },
   "outputs": [],
   "source": [
    "forecast_results = session.sql(\"\"\"\n",
    "SELECT\n",
    "    ts::DATE AS forecast_date,\n",
    "    forecast AS predicted_revenue,\n",
    "    lower_bound,\n",
    "    upper_bound\n",
    "FROM TABLE(daily_sales!FORECAST(FORECASTING_PERIODS=>300))\n",
    "\"\"\")\n",
    "\n",
    "forecast_results = pd.DataFrame(forecast_results.collect())\n",
    "\n",
    "# Calculate forecast statistics\n",
    "avg_forecast = forecast_results['PREDICTED_REVENUE'].mean()\n",
    "total_forecast = forecast_results['PREDICTED_REVENUE'].sum()\n",
    "print(f\"Forecast Summary:\")\n",
    "print(f\"   Average Daily Revenue (Next 300 Days): ${avg_forecast:,.2f}\")\n",
    "print(f\"   Total Projected Revenue (300 Days): ${total_forecast:,.2f}\")"
   ]
  },
  {
   "cell_type": "markdown",
   "id": "1562d7d0-7100-4d38-8d71-84f8322ec19d",
   "metadata": {
    "collapsed": false,
    "name": "cell17"
   },
   "source": [
    "### 3.3 Visualize Forecast Results"
   ]
  },
  {
   "cell_type": "code",
   "execution_count": null,
   "id": "c609785c-b04b-4a5e-b7ec-25712e42ca3d",
   "metadata": {
    "language": "python",
    "name": "cell18"
   },
   "outputs": [],
   "source": [
    "# Combine historical and forecast data for visualization\n",
    "# Filter to show only the last 1 year of historical data for better readability\n",
    "from datetime import datetime, timedelta\n",
    "\n",
    "latest_date = daily_sales['SALES_DATE'].max()\n",
    "one_year_ago = latest_date - timedelta(days=1000)\n",
    "daily_sales_last_year = daily_sales[daily_sales['SALES_DATE'] >= one_year_ago]\n",
    "\n",
    "print(f\"📅 Showing last year of data: {one_year_ago.strftime('%Y-%m-%d')} to {latest_date.strftime('%Y-%m-%d')}\")\n",
    "print(f\"   Total historical days: {len(daily_sales)} | Displaying: {len(daily_sales_last_year)} days\")\n",
    "\n",
    "fig, ax = plt.subplots(figsize=(16, 8))\n",
    "\n",
    "# Plot historical data (last year only)\n",
    "ax.plot(daily_sales_last_year['SALES_DATE'], daily_sales_last_year['TOTAL_REVENUE'], \n",
    "        linewidth=2.5, label='Historical Revenue (Last Year)', color='#1f77b4', marker='o', markersize=3)\n",
    "\n",
    "# Plot forecast\n",
    "ax.plot(forecast_results['FORECAST_DATE'], forecast_results['PREDICTED_REVENUE'], \n",
    "        linewidth=2.5, label='Forecasted Revenue (Next 30 Days)', color='#ff7f0e', linestyle='--', marker='s', markersize=4)\n",
    "\n",
    "# Plot confidence interval\n",
    "ax.fill_between(forecast_results['FORECAST_DATE'], \n",
    "                 forecast_results['LOWER_BOUND'], \n",
    "                 forecast_results['UPPER_BOUND'], \n",
    "                 alpha=0.3, color='#ff7f0e', label='95% Confidence Interval')\n",
    "\n",
    "# Add vertical line to separate historical from forecast\n",
    "split_date = daily_sales['SALES_DATE'].max()\n",
    "ax.axvline(x=split_date, color='red', linestyle=':', linewidth=2, label='Forecast Start')\n",
    "\n",
    "ax.set_title('📈 Revenue Forecast: Last Year Historical vs. Next 30 Days Predicted', fontsize=16, fontweight='bold', pad=20)\n",
    "ax.set_xlabel('Date', fontsize=13, fontweight='bold')\n",
    "ax.set_ylabel('Revenue ($)', fontsize=13, fontweight='bold')\n",
    "ax.legend(loc='best', fontsize=11, framealpha=0.9)\n",
    "ax.grid(True, alpha=0.3)\n",
    "\n",
    "plt.tight_layout()\n",
    "plt.show()"
   ]
  },
  {
   "cell_type": "markdown",
   "id": "528d76c8-32f8-46bf-b690-365c49d84af0",
   "metadata": {
    "collapsed": false,
    "name": "cell19"
   },
   "source": [
    "## 4. Customer Segment Classification with ML.CLASSIFICATION\n",
    "\n",
    "We'll train a classification model to predict customer segments based on behavioral features."
   ]
  },
  {
   "cell_type": "markdown",
   "id": "835c49bc-5f02-432d-8f12-a09b115a9347",
   "metadata": {
    "name": "cell20"
   },
   "source": [
    "### 4.1 Prepare Training Data"
   ]
  },
  {
   "cell_type": "code",
   "execution_count": null,
   "id": "b213e1a6-7a83-45c0-b132-75e243199cba",
   "metadata": {
    "language": "python",
    "name": "cell21"
   },
   "outputs": [],
   "source": [
    "# Explore customer segment distribution\n",
    "segment_dist = query_to_df(\"\"\"\n",
    "    SELECT \n",
    "        CUSTOMER_SEGMENT,\n",
    "        COUNT(*) as customer_count,\n",
    "        AVG(AGE) as avg_age,\n",
    "        AVG(ANNUAL_INCOME) as avg_income,\n",
    "        AVG(TOTAL_ORDERS) as avg_orders,\n",
    "        AVG(AVG_ORDER_VALUE) as avg_order_value,\n",
    "        AVG(CHURN_PROBABILITY) as avg_churn_prob\n",
    "    FROM S3_GOLD.DIM_CUSTOMERS\n",
    "    GROUP BY CUSTOMER_SEGMENT\n",
    "    ORDER BY customer_count DESC\n",
    "\"\"\")\n",
    "\n",
    "print(\"👥 Customer Segment Distribution:\")\n",
    "display(segment_dist)\n",
    "\n",
    "# Visualize segment distribution\n",
    "fig, ax = plt.subplots(1, 2, figsize=(14, 5))\n",
    "\n",
    "# Segment counts\n",
    "ax[0].bar(segment_dist['CUSTOMER_SEGMENT'], segment_dist['CUSTOMER_COUNT'], color=['#2ecc71', '#3498db', '#e74c3c'])\n",
    "ax[0].set_title('Customer Count by Segment', fontsize=13, fontweight='bold')\n",
    "ax[0].set_ylabel('Count', fontsize=11)\n",
    "ax[0].grid(axis='y', alpha=0.3)\n",
    "\n",
    "# Average order value by segment\n",
    "ax[1].bar(segment_dist['CUSTOMER_SEGMENT'], segment_dist['AVG_ORDER_VALUE'], color=['#2ecc71', '#3498db', '#e74c3c'])\n",
    "ax[1].set_title('Average Order Value by Segment', fontsize=13, fontweight='bold')\n",
    "ax[1].set_ylabel('Avg Order Value ($)', fontsize=11)\n",
    "ax[1].grid(axis='y', alpha=0.3)\n",
    "\n",
    "plt.tight_layout()\n",
    "plt.show()"
   ]
  },
  {
   "cell_type": "code",
   "execution_count": null,
   "id": "8c5a9c1e-af91-47f4-b967-ec1c9389399a",
   "metadata": {
    "language": "python",
    "name": "cell22"
   },
   "outputs": [],
   "source": [
    "# Create training view with features and target\n",
    "session.sql(\"\"\"\n",
    "    CREATE OR REPLACE VIEW S3_GOLD.CUSTOMER_CLASSIFICATION_TRAINING AS\n",
    "    SELECT \n",
    "        CUSTOMER_ID,\n",
    "        CUSTOMER_SEGMENT as target,  -- Target variable\n",
    "        AGE,\n",
    "        ANNUAL_INCOME,\n",
    "        TOTAL_ORDERS,\n",
    "        TOTAL_SPENT,\n",
    "        AVG_ORDER_VALUE,\n",
    "        CUSTOMER_TENURE_DAYS,\n",
    "        CHURN_PROBABILITY,\n",
    "        CASE WHEN PREFERRED_SALES_CHANNEL = 'web' THEN 1 ELSE 0 END as is_web_customer,\n",
    "        CASE WHEN PREFERRED_SALES_CHANNEL = 'mobile' THEN 1 ELSE 0 END as is_mobile_customer,\n",
    "        CASE WHEN ENGAGEMENT_LEVEL = 'Highly Engaged' THEN 1 ELSE 0 END as is_highly_engaged\n",
    "    FROM S3_GOLD.DIM_CUSTOMERS\n",
    "    WHERE CUSTOMER_SEGMENT IS NOT NULL\n",
    "        AND AGE IS NOT NULL\n",
    "        AND TOTAL_ORDERS > 0  -- Only customers with purchase history\n",
    "\"\"\").collect()\n",
    "\n",
    "print(\"✅ Training view created: S3_GOLD.CUSTOMER_CLASSIFICATION_TRAINING\")\n",
    "# SQL executed\n",
    "\n",
    "# Preview training data\n",
    "training_preview = query_to_df(\"\"\"\n",
    "    SELECT * FROM S3_GOLD.CUSTOMER_CLASSIFICATION_TRAINING LIMIT 10\n",
    "\"\"\")\n",
    "display(training_preview)"
   ]
  },
  {
   "cell_type": "markdown",
   "id": "6230aed7-1ed7-4d98-ad92-e1a86c1d6458",
   "metadata": {
    "name": "cell23"
   },
   "source": [
    "### 4.2 Train Classification Model"
   ]
  },
  {
   "cell_type": "code",
   "execution_count": null,
   "id": "45f11cf8-e33b-4c9f-b9f3-b63169675121",
   "metadata": {
    "language": "python",
    "name": "cell24"
   },
   "outputs": [],
   "source": [
    "# Train a classification model using Snowflake ML\n",
    "# Note: This creates a model object that can be used for predictions\n",
    "\n",
    "print(\"🤖 Training customer segment classification model...\")\n",
    "print(\"   This may take a few moments...\\n\")\n",
    "\n",
    "session.sql(\"\"\"\n",
    "    CREATE OR REPLACE SNOWFLAKE.ML.CLASSIFICATION CUSTOMER_SEGMENT_CLASSIFIER(\n",
    "        INPUT_DATA => SYSTEM$REFERENCE('VIEW', 'S3_GOLD.CUSTOMER_CLASSIFICATION_TRAINING'),\n",
    "        TARGET_COLNAME => 'TARGET',\n",
    "        CONFIG_OBJECT => {'evaluate': TRUE, 'on_error': 'skip'}\n",
    "    )\n",
    "\"\"\").collect()\n",
    "\n",
    "print(\"✅ Model trained successfully: CUSTOMER_SEGMENT_CLASSIFIER\")\n",
    "# SQL executed"
   ]
  },
  {
   "cell_type": "markdown",
   "id": "551e3b6d-fcb8-4440-a681-7e49bb76b0ac",
   "metadata": {
    "name": "cell25"
   },
   "source": [
    "### 4.3 Evaluate Model Performance"
   ]
  },
  {
   "cell_type": "code",
   "execution_count": null,
   "id": "ee0590fb-64b7-438f-80b8-918b75363fc3",
   "metadata": {
    "language": "python",
    "name": "cell26"
   },
   "outputs": [],
   "source": [
    "# Get model evaluation metrics\n",
    "model_metrics = query_to_df(\"\"\"\n",
    "    CALL CUSTOMER_SEGMENT_CLASSIFIER!SHOW_EVALUATION_METRICS()\n",
    "\"\"\")\n",
    "\n",
    "print(\"📊 Model Evaluation Metrics:\")\n",
    "display(model_metrics)"
   ]
  },
  {
   "cell_type": "markdown",
   "id": "244953c3-f104-4676-a9ca-3fe7c429e966",
   "metadata": {
    "name": "cell27"
   },
   "source": [
    "### 4.4 Generate Predictions"
   ]
  },
  {
   "cell_type": "code",
   "execution_count": null,
   "id": "a4b3530c-ef7d-4d1f-a5a9-80916351fff1",
   "metadata": {
    "language": "python",
    "name": "cell28"
   },
   "outputs": [],
   "source": [
    "# Create a test dataset (simulate new customers with unknown segments)\n",
    "session.sql(\"\"\"\n",
    "    CREATE OR REPLACE VIEW S3_GOLD.CUSTOMER_CLASSIFICATION_TEST AS\n",
    "    SELECT \n",
    "        CUSTOMER_ID,\n",
    "        AGE,\n",
    "        ANNUAL_INCOME,\n",
    "        TOTAL_ORDERS,\n",
    "        TOTAL_SPENT,\n",
    "        AVG_ORDER_VALUE,\n",
    "        CUSTOMER_TENURE_DAYS,\n",
    "        CHURN_PROBABILITY,\n",
    "        CASE WHEN PREFERRED_SALES_CHANNEL = 'web' THEN 1 ELSE 0 END as is_web_customer,\n",
    "        CASE WHEN PREFERRED_SALES_CHANNEL = 'mobile' THEN 1 ELSE 0 END as is_mobile_customer,\n",
    "        CASE WHEN ENGAGEMENT_LEVEL = 'Highly Engaged' THEN 1 ELSE 0 END as is_highly_engaged\n",
    "    FROM S3_GOLD.DIM_CUSTOMERS\n",
    "    WHERE TOTAL_ORDERS > 0\n",
    "    ORDER BY RANDOM()\n",
    "    LIMIT 100  -- Sample 100 customers for prediction\n",
    "\"\"\").collect()\n",
    "\n",
    "print(\"✅ Test dataset created\")\n",
    "# SQL executed"
   ]
  },
  {
   "cell_type": "code",
   "execution_count": null,
   "id": "2cbe19f6-4e98-462f-8628-6745fce85c2e",
   "metadata": {
    "language": "python",
    "name": "cell29"
   },
   "outputs": [],
   "source": [
    "# Make predictions using the trained model\n",
    "predictions = query_to_df(\"\"\"\n",
    "    SELECT \n",
    "        t.CUSTOMER_ID,\n",
    "        t.AGE,\n",
    "        t.ANNUAL_INCOME,\n",
    "        t.TOTAL_ORDERS,\n",
    "        t.AVG_ORDER_VALUE,\n",
    "        c.CUSTOMER_SEGMENT as actual_segment,\n",
    "        p.class as predicted_segment,\n",
    "        ROUND(p.probability, 3) as confidence\n",
    "    FROM S3_GOLD.CUSTOMER_CLASSIFICATION_TEST t\n",
    "    INNER JOIN S3_GOLD.DIM_CUSTOMERS c ON t.CUSTOMER_ID = c.CUSTOMER_ID,\n",
    "    TABLE(CUSTOMER_SEGMENT_CLASSIFIER!PREDICT(INPUT_DATA => OBJECT_CONSTRUCT(*))) p\n",
    "    LIMIT 20\n",
    "\"\"\")\n",
    "\n",
    "print(\"🎯 Sample Predictions (Actual vs Predicted):\")\n",
    "display(predictions)\n",
    "\n",
    "# Calculate accuracy\n",
    "accuracy = (predictions['ACTUAL_SEGMENT'] == predictions['PREDICTED_SEGMENT']).mean() * 100\n",
    "print(f\"\\n✨ Model Accuracy on Sample: {accuracy:.1f}%\")"
   ]
  },
  {
   "cell_type": "markdown",
   "id": "9964d7ac-ca05-4473-a88f-85d5b4d8e0b3",
   "metadata": {
    "name": "cell30"
   },
   "source": [
    "## 5. Business Insights & Applications"
   ]
  },
  {
   "cell_type": "markdown",
   "id": "f1b47f26-e094-48b7-9fd1-cee6e6d9ac85",
   "metadata": {
    "name": "cell31"
   },
   "source": [
    "### 5.1 Identify High-Value Customers at Risk of Churning"
   ]
  },
  {
   "cell_type": "code",
   "execution_count": null,
   "id": "fccdf0e3-8b84-48ef-ac88-a6f37ae4a663",
   "metadata": {
    "language": "python",
    "name": "cell32"
   },
   "outputs": [],
   "source": [
    "# Find premium customers with high churn risk\n",
    "at_risk_customers = query_to_df(\"\"\"\n",
    "    SELECT \n",
    "        CUSTOMER_ID,\n",
    "        CUSTOMER_SEGMENT,\n",
    "        AGE,\n",
    "        TOTAL_SPENT,\n",
    "        TOTAL_ORDERS,\n",
    "        AVG_ORDER_VALUE,\n",
    "        CHURN_PROBABILITY,\n",
    "        ENGAGEMENT_LEVEL,\n",
    "        CUSTOMER_TENURE_DAYS\n",
    "    FROM S3_GOLD.DIM_CUSTOMERS\n",
    "    WHERE CUSTOMER_SEGMENT = 'premium'\n",
    "        AND CHURN_PROBABILITY > 0.5\n",
    "        AND TOTAL_SPENT > 1000\n",
    "    ORDER BY TOTAL_SPENT DESC\n",
    "    LIMIT 20\n",
    "\"\"\")\n",
    "\n",
    "print(\"⚠️ High-Value Customers at Risk (Premium + High Churn Probability):\")\n",
    "display(at_risk_customers)\n",
    "\n",
    "total_at_risk_value = at_risk_customers['TOTAL_SPENT'].sum()\n",
    "print(f\"\\n💰 Total Lifetime Value at Risk: ${total_at_risk_value:,.2f}\")"
   ]
  },
  {
   "cell_type": "markdown",
   "id": "b6fb7c07-b002-4cff-a5bc-b0ef80539791",
   "metadata": {
    "name": "cell33"
   },
   "source": [
    "### 5.2 Product Category Performance by Segment"
   ]
  },
  {
   "cell_type": "code",
   "execution_count": null,
   "id": "3748015b-84e3-44a7-ae99-51a941fea039",
   "metadata": {
    "language": "python",
    "name": "cell34"
   },
   "outputs": [],
   "source": [
    "# Analyze product preferences by customer segment\n",
    "category_performance = query_to_df(\"\"\"\n",
    "    SELECT \n",
    "        CUSTOMER_SEGMENT,\n",
    "        PRODUCT_CATEGORY,\n",
    "        COUNT(*) as purchase_count,\n",
    "        SUM(FINAL_TOTAL) as total_revenue,\n",
    "        AVG(FINAL_TOTAL) as avg_purchase_value\n",
    "    FROM S3_GOLD.FCT_SALES\n",
    "    GROUP BY CUSTOMER_SEGMENT, PRODUCT_CATEGORY\n",
    "    ORDER BY CUSTOMER_SEGMENT, total_revenue DESC\n",
    "\"\"\")\n",
    "\n",
    "# Pivot for better visualization\n",
    "pivot_revenue = category_performance.pivot_table(\n",
    "    values='TOTAL_REVENUE', \n",
    "    index='PRODUCT_CATEGORY', \n",
    "    columns='CUSTOMER_SEGMENT',\n",
    "    fill_value=0\n",
    ")\n",
    "\n",
    "print(\"🛍️ Revenue by Product Category & Customer Segment:\")\n",
    "display(pivot_revenue)\n",
    "\n",
    "# Visualize\n",
    "pivot_revenue.plot(kind='bar', figsize=(14, 6), width=0.8)\n",
    "plt.title('Revenue by Product Category and Customer Segment', fontsize=14, fontweight='bold', pad=15)\n",
    "plt.xlabel('Product Category', fontsize=12)\n",
    "plt.ylabel('Total Revenue ($)', fontsize=12)\n",
    "plt.legend(title='Customer Segment', fontsize=10)\n",
    "plt.xticks(rotation=45, ha='right')\n",
    "plt.grid(axis='y', alpha=0.3)\n",
    "plt.tight_layout()\n",
    "plt.show()"
   ]
  },
  {
   "cell_type": "markdown",
   "id": "6ea1ffd0-0f1d-4c6b-9c72-179701cfcbfb",
   "metadata": {
    "name": "cell35"
   },
   "source": [
    "## 6. Summary & Next Steps"
   ]
  },
  {
   "cell_type": "code",
   "execution_count": null,
   "id": "35e0d484-a7b7-4109-bb17-1f96877f22d9",
   "metadata": {
    "language": "python",
    "name": "cell36"
   },
   "outputs": [],
   "source": [
    "print(\"=\"*80)\n",
    "print(\"🎉 DEMO SUMMARY\")\n",
    "print(\"=\"*80)\n",
    "print(\"\\n✅ Completed Tasks:\")\n",
    "print(\"   1. Connected to Snowflake Gold Layer\")\n",
    "print(\"   2. Time Series Forecasting with ML.FORECAST\")\n",
    "print(\"      - Forecasted 30 days of revenue\")\n",
    "print(\"      - Generated confidence intervals\")\n",
    "print(\"   3. Customer Classification with ML.CLASSIFICATION\")\n",
    "print(\"      - Trained segment prediction model\")\n",
    "print(\"      - Evaluated model performance\")\n",
    "print(\"      - Generated predictions for new customers\")\n",
    "print(\"   4. Business Insights Analysis\")\n",
    "print(\"      - Identified at-risk high-value customers\")\n",
    "print(\"      - Analyzed product preferences by segment\")\n",
    "print(\"\\n🚀 Next Steps:\")\n",
    "print(\"   • Deploy models to production for real-time scoring\")\n",
    "print(\"   • Create automated alerts for high-churn customers\")\n",
    "print(\"   • Build personalized marketing campaigns by segment\")\n",
    "print(\"   • Integrate forecasts into inventory planning\")\n",
    "print(\"   • Set up automated model retraining on new data\")\n",
    "print(\"\\n💡 Snowflake ML Benefits Demonstrated:\")\n",
    "print(\"   ✓ No data movement required\")\n",
    "print(\"   ✓ Native SQL integration\")\n",
    "print(\"   ✓ Automatic feature engineering\")\n",
    "print(\"   ✓ Scalable to billions of rows\")\n",
    "print(\"   ✓ Secure and governed\")\n",
    "print(\"=\"*80)"
   ]
  },
  {
   "cell_type": "markdown",
   "id": "b90aad96-01c5-4c6f-9ead-d7c933980a47",
   "metadata": {
    "name": "cell37"
   },
   "source": [
    "## Cleanup (Optional)"
   ]
  },
  {
   "cell_type": "code",
   "execution_count": null,
   "id": "434a803a-0e75-48c8-a6c5-86619f0b3942",
   "metadata": {
    "language": "python",
    "name": "cell38"
   },
   "outputs": [],
   "source": [
    "# Session is managed by Snowflake Notebooks\n",
    "# No need to close the session\n",
    "print(\"✅ Notebook complete! Session remains active for your Snowflake Notebook.\")"
   ]
  }
 ],
 "metadata": {
  "language_info": {
   "name": "python"
  },
  "lastEditStatus": {
   "authorEmail": "jarry.chen@snowflake.com",
   "authorId": "6363208213288",
   "authorName": "JARCHEN",
   "lastEditTime": 1759584944697,
   "notebookId": "xxq2s2uwk3h2iiepbuf2",
   "sessionId": "7fe73c43-404c-4256-9e80-38db7aa6f693"
  }
 },
 "nbformat": 4,
 "nbformat_minor": 5
}
